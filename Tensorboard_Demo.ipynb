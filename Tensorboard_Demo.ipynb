{
 "cells": [
  {
   "cell_type": "markdown",
   "id": "149cd727",
   "metadata": {},
   "source": [
    "# Imports"
   ]
  },
  {
   "cell_type": "code",
   "execution_count": 1,
   "id": "2577069e",
   "metadata": {},
   "outputs": [],
   "source": [
    "import warnings\n",
    "import numpy as np\n",
    "\n",
    "import torch\n",
    "from torch.nn import functional as F\n",
    "from torch import nn\n",
    "from torch.utils.data import DataLoader, random_split\n",
    "\n",
    "import pytorch_lightning as pl\n",
    "from pytorch_lightning.loggers import TensorBoardLogger\n",
    "\n",
    "from utils import *\n",
    "from model.ConvNet import LitConvNet\n",
    "from model.NeuralNet import LitNeuralNet\n",
    "\n",
    "# ignore warnings\n",
    "warnings.filterwarnings('ignore')\n",
    "\n",
    "# auto reload\n",
    "%load_ext autoreload\n",
    "%autoreload 2"
   ]
  },
  {
   "cell_type": "markdown",
   "id": "5255c941",
   "metadata": {},
   "source": [
    "# Controller"
   ]
  },
  {
   "cell_type": "code",
   "execution_count": 2,
   "id": "7a43e8a5",
   "metadata": {},
   "outputs": [],
   "source": [
    "CONFIG = {\n",
    "    'num_epochs': 3,\n",
    "    'batch_size': 128,\n",
    "    'learning_rate': 2e-5,\n",
    "    'in_dims': (1, 28, 28), # change if you change dataset\n",
    "    'out_dims': 10,\n",
    "}"
   ]
  },
  {
   "cell_type": "markdown",
   "id": "757e2461",
   "metadata": {},
   "source": [
    "## Loading and formatting data\n",
    "\n",
    "To load MNIST, Fashion MNIST, or CIFAR10, please look at the utils folder.\n",
    "\n",
    "The data and its respective folder will **automatically** be created if you do not have the dataset."
   ]
  },
  {
   "cell_type": "code",
   "execution_count": 3,
   "id": "1e118731",
   "metadata": {
    "scrolled": true
   },
   "outputs": [],
   "source": [
    "# load data\n",
    "mnist_trainset, mnist_testset = utils.load_MNIST('./data')\n",
    "\n",
    "# dataloaders\n",
    "trainloader = torch.utils.data.DataLoader(mnist_trainset, batch_size=CONFIG['batch_size'],\n",
    "                                        shuffle=True, num_workers=2)\n",
    "\n",
    "testloader = torch.utils.data.DataLoader(mnist_testset, batch_size=CONFIG['batch_size'],\n",
    "                                        shuffle=False, num_workers=2)"
   ]
  },
  {
   "cell_type": "markdown",
   "id": "06de5b43",
   "metadata": {},
   "source": [
    "## Training\n",
    "\n",
    "NeuralNet is compatible with all datasets.\n",
    "\n",
    "ConvNet is only compatible with MNIST and Fashion MNIST."
   ]
  },
  {
   "cell_type": "code",
   "execution_count": 4,
   "id": "75ce7781",
   "metadata": {
    "scrolled": true
   },
   "outputs": [
    {
     "name": "stderr",
     "output_type": "stream",
     "text": [
      "GPU available: False, used: False\n",
      "TPU available: False, using: 0 TPU cores\n",
      "IPU available: False, using: 0 IPUs\n",
      "HPU available: False, using: 0 HPUs\n",
      "\n",
      "  | Name | Type   | Params | In sizes   | Out sizes \n",
      "----------------------------------------------------------\n",
      "0 | fc1  | Linear | 100 K  | [128, 784] | [128, 128]\n",
      "1 | fc2  | Linear | 33.0 K | [128, 128] | [128, 256]\n",
      "2 | fc3  | Linear | 2.6 K  | [128, 256] | [128, 10] \n",
      "----------------------------------------------------------\n",
      "136 K     Trainable params\n",
      "0         Non-trainable params\n",
      "136 K     Total params\n",
      "0.544     Total estimated model params size (MB)\n"
     ]
    },
    {
     "data": {
      "application/vnd.jupyter.widget-view+json": {
       "model_id": "",
       "version_major": 2,
       "version_minor": 0
      },
      "text/plain": [
       "Sanity Checking: 0it [00:00, ?it/s]"
      ]
     },
     "metadata": {},
     "output_type": "display_data"
    },
    {
     "data": {
      "application/vnd.jupyter.widget-view+json": {
       "model_id": "42fae77d5d68431db01ab75d62d21318",
       "version_major": 2,
       "version_minor": 0
      },
      "text/plain": [
       "Training: 0it [00:00, ?it/s]"
      ]
     },
     "metadata": {},
     "output_type": "display_data"
    },
    {
     "data": {
      "application/vnd.jupyter.widget-view+json": {
       "model_id": "",
       "version_major": 2,
       "version_minor": 0
      },
      "text/plain": [
       "Validation: 0it [00:00, ?it/s]"
      ]
     },
     "metadata": {},
     "output_type": "display_data"
    },
    {
     "data": {
      "application/vnd.jupyter.widget-view+json": {
       "model_id": "",
       "version_major": 2,
       "version_minor": 0
      },
      "text/plain": [
       "Validation: 0it [00:10, ?it/s]"
      ]
     },
     "metadata": {},
     "output_type": "display_data"
    },
    {
     "data": {
      "application/vnd.jupyter.widget-view+json": {
       "model_id": "",
       "version_major": 2,
       "version_minor": 0
      },
      "text/plain": [
       "Validation: 0it [00:00, ?it/s]"
      ]
     },
     "metadata": {},
     "output_type": "display_data"
    }
   ],
   "source": [
    "from model.ConvNet import LitConvNet\n",
    "from model.NeuralNet import LitNeuralNet\n",
    "    \n",
    "logger = TensorBoardLogger(\"logs/tensorboard_logs\", \n",
    "                    name=\"CIFAR10\",\n",
    "                    sub_dir=\"NN\",\n",
    "                    default_hp_metric=True,\n",
    "                    log_graph=True)\n",
    "\n",
    "model = LitNeuralNet(**CONFIG) # or LitConvNet(**CONFIG)\n",
    "\n",
    "trainer = pl.Trainer(logger = logger,\n",
    "                     max_epochs = CONFIG['num_epochs'],)\n",
    "trainer.fit(model,\n",
    "            train_dataloaders=trainloader,\n",
    "            val_dataloaders=testloader,)"
   ]
  }
 ],
 "metadata": {
  "kernelspec": {
   "display_name": "Python 3 (ipykernel)",
   "language": "python",
   "name": "python3"
  },
  "language_info": {
   "codemirror_mode": {
    "name": "ipython",
    "version": 3
   },
   "file_extension": ".py",
   "mimetype": "text/x-python",
   "name": "python",
   "nbconvert_exporter": "python",
   "pygments_lexer": "ipython3",
   "version": "3.8.10"
  }
 },
 "nbformat": 4,
 "nbformat_minor": 5
}
