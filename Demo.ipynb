{
 "cells": [
  {
   "cell_type": "code",
   "execution_count": 1,
   "id": "2577069e",
   "metadata": {},
   "outputs": [],
   "source": [
    "import numpy as np\n",
    "\n",
    "import torch\n",
    "from torch.nn import functional as F\n",
    "from torch import nn\n",
    "from torch.utils.data import DataLoader, random_split\n",
    "\n",
    "import torchvision\n",
    "from torchvision.datasets import MNIST\n",
    "from torchvision import transforms\n",
    "\n",
    "\n",
    "# remove slow mirror from list of MNIST mirrors\n",
    "MNIST.mirrors = [mirror for mirror in MNIST.mirrors\n",
    "                 if not mirror.startswith(\"http://yann.lecun.com\")]"
   ]
  },
  {
   "cell_type": "code",
   "execution_count": 2,
   "id": "d7f515a2",
   "metadata": {
    "scrolled": false
   },
   "outputs": [
    {
     "name": "stderr",
     "output_type": "stream",
     "text": [
      "2022-04-25 18:44:15.196177: W tensorflow/stream_executor/platform/default/dso_loader.cc:64] Could not load dynamic library 'libcudart.so.11.0'; dlerror: libcudart.so.11.0: cannot open shared object file: No such file or directory\n",
      "2022-04-25 18:44:15.196365: I tensorflow/stream_executor/cuda/cudart_stub.cc:29] Ignore above cudart dlerror if you do not have a GPU set up on your machine.\n",
      "\u001b[34m\u001b[1mwandb\u001b[0m: Currently logged in as: \u001b[33mdminn\u001b[0m (use `wandb login --relogin` to force relogin)\n"
     ]
    },
    {
     "data": {
      "text/plain": [
       "True"
      ]
     },
     "execution_count": 2,
     "metadata": {},
     "output_type": "execute_result"
    }
   ],
   "source": [
    "import pytorch_lightning as pl\n",
    "from torchmetrics.functional import accuracy\n",
    "from pytorch_lightning.loggers import WandbLogger\n",
    "from pytorch_lightning.loggers import TensorBoardLogger\n",
    "import wandb\n",
    "\n",
    "# pl.seed_everything(hash(\"setting random seeds\") % 2**32 - 1)\n",
    "wandb.login()"
   ]
  },
  {
   "cell_type": "code",
   "execution_count": 3,
   "id": "7a43e8a5",
   "metadata": {},
   "outputs": [],
   "source": [
    "CONFIG = {\n",
    "    'num_epochs': 3,\n",
    "    'batch_size': 128,\n",
    "    'learning_rate': 2e-5,\n",
    "}"
   ]
  },
  {
   "cell_type": "code",
   "execution_count": 4,
   "id": "1e118731",
   "metadata": {
    "scrolled": true
   },
   "outputs": [],
   "source": [
    "# transforms\n",
    "transform = transforms.Compose(\n",
    "    [transforms.ToTensor(),\n",
    "    transforms.Normalize((0.5,), (0.5,))])\n",
    "\n",
    "# datasets\n",
    "trainset = MNIST('./data',\n",
    "    download=True,\n",
    "    train=True,\n",
    "    transform=transform)\n",
    "\n",
    "testset = MNIST('./data',\n",
    "    download=True,\n",
    "    train=False,\n",
    "    transform=transform)\n",
    "\n",
    "# dataloaders\n",
    "trainloader = torch.utils.data.DataLoader(trainset, batch_size=CONFIG['batch_size'],\n",
    "                                        shuffle=True, num_workers=2)\n",
    "\n",
    "testloader = torch.utils.data.DataLoader(testset, batch_size=CONFIG['batch_size'],\n",
    "                                        shuffle=False, num_workers=2)"
   ]
  },
  {
   "cell_type": "code",
   "execution_count": 5,
   "id": "bb556e7f",
   "metadata": {},
   "outputs": [],
   "source": [
    "class LitConvNet(pl.LightningModule):\n",
    "    def __init__(self, **config):\n",
    "        super(LitConvNet, self).__init__()\n",
    "        self.conv1 = nn.Conv2d(1, 6, 5)\n",
    "        self.pool = nn.MaxPool2d(2, 2)\n",
    "        self.conv2 = nn.Conv2d(6, 16, 5)\n",
    "        self.fc1 = nn.Linear(16 * 4 * 4, 120)\n",
    "        self.fc2 = nn.Linear(120, 84)\n",
    "        self.fc3 = nn.Linear(84, 10)\n",
    "        \n",
    "        self.save_hyperparameters()\n",
    "\n",
    "    def forward(self, x):\n",
    "        x = self.pool(F.relu(self.conv1(x)))\n",
    "        x = self.pool(F.relu(self.conv2(x)))\n",
    "        x = x.view(-1, 16 * 4 * 4)\n",
    "        x = F.relu(self.fc1(x))\n",
    "        x = F.relu(self.fc2(x))\n",
    "        x = self.fc3(x)\n",
    "        return x\n",
    "    \n",
    "    def loss(self, images, labels):\n",
    "        outputs = self(images)\n",
    "        loss = F.cross_entropy(outputs, labels)\n",
    "        logits = F.log_softmax(outputs, dim=1)\n",
    "        return logits, loss\n",
    "    \n",
    "    def training_step(self, batch, batch_index):\n",
    "        images, labels = batch\n",
    "        logits, loss = self.loss(images, labels)\n",
    "        preds = torch.argmax(logits, 1)\n",
    "        \n",
    "        # log metrics\n",
    "        self.log('train/loss', loss, on_epoch = True)\n",
    "        self.log('train/acc', accuracy(preds, labels), on_epoch = True)\n",
    "        \n",
    "        # log images\n",
    "#         img_grid = torchvision.utils.make_grid(images, on_)\n",
    "#         self.logger.experiment.add_image('train/images', img_grid)\n",
    "        return {'loss': loss}\n",
    "\n",
    "    def configure_optimizers(self):\n",
    "        return torch.optim.Adam(self.parameters(), lr=self.hparams['learning_rate'])"
   ]
  },
  {
   "cell_type": "code",
   "execution_count": 6,
   "id": "36de8edd",
   "metadata": {},
   "outputs": [
    {
     "name": "stderr",
     "output_type": "stream",
     "text": [
      "GPU available: False, used: False\n",
      "TPU available: False, using: 0 TPU cores\n",
      "IPU available: False, using: 0 IPUs\n",
      "HPU available: False, using: 0 HPUs\n",
      "/home/dminn/Projects/noise-proof-passage-retrieval/passage_retrieval_env/lib/python3.8/site-packages/pytorch_lightning/trainer/configuration_validator.py:131: UserWarning: You passed in a `val_dataloader` but have no `validation_step`. Skipping val loop.\n",
      "  rank_zero_warn(\"You passed in a `val_dataloader` but have no `validation_step`. Skipping val loop.\")\n",
      "\n",
      "  | Name  | Type      | Params\n",
      "------------------------------------\n",
      "0 | conv1 | Conv2d    | 156   \n",
      "1 | pool  | MaxPool2d | 0     \n",
      "2 | conv2 | Conv2d    | 2.4 K \n",
      "3 | fc1   | Linear    | 30.8 K\n",
      "4 | fc2   | Linear    | 10.2 K\n",
      "5 | fc3   | Linear    | 850   \n",
      "------------------------------------\n",
      "44.4 K    Trainable params\n",
      "0         Non-trainable params\n",
      "44.4 K    Total params\n",
      "0.178     Total estimated model params size (MB)\n",
      "/home/dminn/Projects/noise-proof-passage-retrieval/passage_retrieval_env/lib/python3.8/site-packages/pytorch_lightning/trainer/connectors/data_connector.py:240: PossibleUserWarning: The dataloader, train_dataloader, does not have many workers which may be a bottleneck. Consider increasing the value of the `num_workers` argument` (try 8 which is the number of cpus on this machine) in the `DataLoader` init to improve performance.\n",
      "  rank_zero_warn(\n"
     ]
    },
    {
     "name": "stdout",
     "output_type": "stream",
     "text": [
      "Epoch 0:  90%|████████████████████████████████▏   | 420/469 [00:16<00:01, 25.87it/s, loss=2.06, v_num=3]"
     ]
    },
    {
     "name": "stderr",
     "output_type": "stream",
     "text": [
      "/home/dminn/Projects/noise-proof-passage-retrieval/passage_retrieval_env/lib/python3.8/site-packages/pytorch_lightning/trainer/trainer.py:724: UserWarning: Detected KeyboardInterrupt, attempting graceful shutdown...\n",
      "  rank_zero_warn(\"Detected KeyboardInterrupt, attempting graceful shutdown...\")\n"
     ]
    }
   ],
   "source": [
    "logger = TensorBoardLogger(\"tensorboard_logs\", name=\"LitConvNet\")\n",
    "trainer = pl.Trainer(logger = logger,\n",
    "                     log_every_n_steps = 50,\n",
    "#                      gpus = 1,\n",
    "                     max_epochs = CONFIG['num_epochs'],\n",
    "                    )\n",
    "model = LitConvNet(**CONFIG)\n",
    "trainer.fit(model, train_dataloaders=trainloader, val_dataloaders=testloader)"
   ]
  },
  {
   "cell_type": "code",
   "execution_count": 7,
   "id": "7349fb94",
   "metadata": {
    "scrolled": true
   },
   "outputs": [],
   "source": [
    "# # write to tensorboard\n",
    "# writer.add_image('four_fashion_mnist_images', img_grid)\n",
    "\n",
    "# # add computation graph\n",
    "# writer.add_graph(net, images)\n",
    "\n",
    "# # log loss\n",
    "# writer.add_scalar('training loss', running_loss / 1000, epoch * len(trainloader) + i)\n",
    "\n",
    "# # log predictions\n",
    "# writer.add_figure('predictions vs. actuals', plot_classes_preds(net, inputs, labels),..."
   ]
  }
 ],
 "metadata": {
  "kernelspec": {
   "display_name": "Python 3 (ipykernel)",
   "language": "python",
   "name": "python3"
  },
  "language_info": {
   "codemirror_mode": {
    "name": "ipython",
    "version": 3
   },
   "file_extension": ".py",
   "mimetype": "text/x-python",
   "name": "python",
   "nbconvert_exporter": "python",
   "pygments_lexer": "ipython3",
   "version": "3.8.10"
  }
 },
 "nbformat": 4,
 "nbformat_minor": 5
}
