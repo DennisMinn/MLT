{
 "cells": [
  {
   "cell_type": "markdown",
   "id": "d99a9785",
   "metadata": {},
   "source": [
    "# Imports"
   ]
  },
  {
   "cell_type": "code",
   "execution_count": 1,
   "id": "2577069e",
   "metadata": {},
   "outputs": [
    {
     "name": "stderr",
     "output_type": "stream",
     "text": [
      "\u001b[34m\u001b[1mwandb\u001b[0m: Currently logged in as: \u001b[33mdminn\u001b[0m (use `wandb login --relogin` to force relogin)\n"
     ]
    }
   ],
   "source": [
    "import warnings\n",
    "import numpy as np\n",
    "\n",
    "import torch\n",
    "from torch.nn import functional as F\n",
    "from torch import nn\n",
    "from torch.utils.data import DataLoader, random_split\n",
    "\n",
    "import torchvision\n",
    "from torchvision.datasets import MNIST\n",
    "from torchvision import transforms\n",
    "\n",
    "import pytorch_lightning as pl\n",
    "from pytorch_lightning.loggers import WandbLogger\n",
    "import wandb\n",
    "\n",
    "from utils import *\n",
    "from model.ConvNet import LitConvNet\n",
    "\n",
    "# Login for Weights and Bias\n",
    "wandb.login()\n",
    "\n",
    "# ignore warnings\n",
    "warnings.filterwarnings('ignore')\n",
    "\n",
    "# auto reload\n",
    "%load_ext autoreload\n",
    "%autoreload 2\n"
   ]
  },
  {
   "cell_type": "markdown",
   "id": "53ae2792",
   "metadata": {},
   "source": [
    "# Controller"
   ]
  },
  {
   "cell_type": "code",
   "execution_count": 2,
   "id": "7a43e8a5",
   "metadata": {},
   "outputs": [],
   "source": [
    "CONFIG = {\n",
    "    'num_epochs': 3,\n",
    "    'batch_size': 128,\n",
    "    'learning_rate': 2e-5,\n",
    "    'in_dims': (3, 32, 32),\n",
    "    'out_dims': 10,\n",
    "}"
   ]
  },
  {
   "cell_type": "markdown",
   "id": "1d3fe4d8",
   "metadata": {},
   "source": [
    "## Loading and formatting data\n",
    "\n",
    "To load MNIST, Fashion MNIST, or CIFAR10, please look at the utils folder.\n",
    "\n",
    "The data and its respective folder will automatically be created if you do not have the dataset."
   ]
  },
  {
   "cell_type": "code",
   "execution_count": 3,
   "id": "1e118731",
   "metadata": {
    "scrolled": true
   },
   "outputs": [
    {
     "name": "stdout",
     "output_type": "stream",
     "text": [
      "Files already downloaded and verified\n",
      "Files already downloaded and verified\n"
     ]
    }
   ],
   "source": [
    "# load data\n",
    "cifar_trainset, cifar_testset = utils.load_CIFAR('./data')\n",
    "\n",
    "# dataloaders\n",
    "trainloader = torch.utils.data.DataLoader(cifar_trainset, batch_size=CONFIG['batch_size'],\n",
    "                                        shuffle=True, num_workers=2)\n",
    "\n",
    "testloader = torch.utils.data.DataLoader(cifar_testset, batch_size=CONFIG['batch_size'],\n",
    "                                        shuffle=False, num_workers=2)"
   ]
  },
  {
   "cell_type": "markdown",
   "id": "2f03ad9a",
   "metadata": {},
   "source": [
    "## Training\n",
    "\n",
    "NeuralNet is compatible with all datasets.\n",
    "\n",
    "ConvNet is only compatible with MNIST and Fashion MNIST. "
   ]
  },
  {
   "cell_type": "code",
   "execution_count": 4,
   "id": "75ce7781",
   "metadata": {
    "scrolled": true
   },
   "outputs": [
    {
     "data": {
      "text/html": [
       "Changes to your `wandb` environment variables will be ignored because your `wandb` session has already started. For more information on how to modify your settings with `wandb.init()` arguments, please refer to <a href=\"https://wandb.me/wandb-init\" target=\"_blank\">the W&B docs</a>."
      ],
      "text/plain": [
       "<IPython.core.display.HTML object>"
      ]
     },
     "metadata": {},
     "output_type": "display_data"
    },
    {
     "data": {
      "text/html": [
       "wandb version 0.12.16 is available!  To upgrade, please run:\n",
       " $ pip install wandb --upgrade"
      ],
      "text/plain": [
       "<IPython.core.display.HTML object>"
      ]
     },
     "metadata": {},
     "output_type": "display_data"
    },
    {
     "data": {
      "text/html": [
       "Tracking run with wandb version 0.12.14"
      ],
      "text/plain": [
       "<IPython.core.display.HTML object>"
      ]
     },
     "metadata": {},
     "output_type": "display_data"
    },
    {
     "data": {
      "text/html": [
       "Run data is saved locally in <code>logs/wandb_logs/wandb/run-20220509_154134-15ifslh9</code>"
      ],
      "text/plain": [
       "<IPython.core.display.HTML object>"
      ]
     },
     "metadata": {},
     "output_type": "display_data"
    },
    {
     "data": {
      "text/html": [
       "Syncing run <strong><a href=\"https://wandb.ai/dminn/CIFAR/runs/15ifslh9\" target=\"_blank\">smooth-sunset-4</a></strong> to <a href=\"https://wandb.ai/dminn/CIFAR\" target=\"_blank\">Weights & Biases</a> (<a href=\"https://wandb.me/run\" target=\"_blank\">docs</a>)<br/>"
      ],
      "text/plain": [
       "<IPython.core.display.HTML object>"
      ]
     },
     "metadata": {},
     "output_type": "display_data"
    },
    {
     "name": "stderr",
     "output_type": "stream",
     "text": [
      "GPU available: False, used: False\n",
      "TPU available: False, using: 0 TPU cores\n",
      "IPU available: False, using: 0 IPUs\n",
      "HPU available: False, using: 0 HPUs\n",
      "\n",
      "  | Name | Type   | Params | In sizes    | Out sizes \n",
      "-----------------------------------------------------------\n",
      "0 | fc1  | Linear | 393 K  | [128, 3072] | [128, 128]\n",
      "1 | fc2  | Linear | 33.0 K | [128, 128]  | [128, 256]\n",
      "2 | fc3  | Linear | 2.6 K  | [128, 256]  | [128, 10] \n",
      "-----------------------------------------------------------\n",
      "428 K     Trainable params\n",
      "0         Non-trainable params\n",
      "428 K     Total params\n",
      "1.716     Total estimated model params size (MB)\n"
     ]
    },
    {
     "data": {
      "application/vnd.jupyter.widget-view+json": {
       "model_id": "",
       "version_major": 2,
       "version_minor": 0
      },
      "text/plain": [
       "Sanity Checking: 0it [00:00, ?it/s]"
      ]
     },
     "metadata": {},
     "output_type": "display_data"
    },
    {
     "data": {
      "application/vnd.jupyter.widget-view+json": {
       "model_id": "a485deac8c4041739a7de74b03c96141",
       "version_major": 2,
       "version_minor": 0
      },
      "text/plain": [
       "Training: 0it [00:00, ?it/s]"
      ]
     },
     "metadata": {},
     "output_type": "display_data"
    },
    {
     "data": {
      "application/vnd.jupyter.widget-view+json": {
       "model_id": "",
       "version_major": 2,
       "version_minor": 0
      },
      "text/plain": [
       "Validation: 0it [00:00, ?it/s]"
      ]
     },
     "metadata": {},
     "output_type": "display_data"
    },
    {
     "data": {
      "application/vnd.jupyter.widget-view+json": {
       "model_id": "",
       "version_major": 2,
       "version_minor": 0
      },
      "text/plain": [
       "Validation: 0it [00:00, ?it/s]"
      ]
     },
     "metadata": {},
     "output_type": "display_data"
    },
    {
     "data": {
      "application/vnd.jupyter.widget-view+json": {
       "model_id": "",
       "version_major": 2,
       "version_minor": 0
      },
      "text/plain": [
       "Validation: 0it [00:00, ?it/s]"
      ]
     },
     "metadata": {},
     "output_type": "display_data"
    },
    {
     "name": "stdout",
     "output_type": "stream",
     "text": [
      "\n"
     ]
    },
    {
     "data": {
      "text/html": [
       "Waiting for W&B process to finish... <strong style=\"color:green\">(success).</strong>"
      ],
      "text/plain": [
       "<IPython.core.display.HTML object>"
      ]
     },
     "metadata": {},
     "output_type": "display_data"
    },
    {
     "data": {
      "application/vnd.jupyter.widget-view+json": {
       "model_id": "",
       "version_major": 2,
       "version_minor": 0
      },
      "text/plain": [
       "VBox(children=(Label(value='4.917 MB of 4.917 MB uploaded (0.000 MB deduped)\\r'), FloatProgress(value=1.0, max…"
      ]
     },
     "metadata": {},
     "output_type": "display_data"
    },
    {
     "data": {
      "text/html": [
       "<style>\n",
       "    table.wandb td:nth-child(1) { padding: 0 10px; text-align: right }\n",
       "    .wandb-row { display: flex; flex-direction: row; flex-wrap: wrap; width: 100% }\n",
       "    .wandb-col { display: flex; flex-direction: column; flex-basis: 100%; flex: 1; padding: 10px; }\n",
       "    </style>\n",
       "<div class=\"wandb-row\"><div class=\"wandb-col\"><h3>Run history:</h3><br/><table class=\"wandb\"><tr><td>epoch</td><td>▁▁▁▁▁▁▁▁▅▅▅▅▅▅▅▅▅█████████</td></tr><tr><td>train/accuracy</td><td>▂▂▁▂▄▄▃▇▄▅▅▆█▅▆▅▄▆▆▅▄▆▅</td></tr><tr><td>train/f1_score</td><td>▂▂▁▂▄▄▃▇▄▅▅▆█▅▆▅▄▆▆▅▄▆▅</td></tr><tr><td>train/loss</td><td>██▇▇▅▆▅▄▄▄▄▃▂▄▂▂▃▂▁▄▂▁▄</td></tr><tr><td>train/precision</td><td>▂▂▁▂▄▄▃▇▄▅▅▆█▅▆▅▄▆▆▅▄▆▅</td></tr><tr><td>train/recall</td><td>▂▂▁▂▄▄▃▇▄▅▅▆█▅▆▅▄▆▆▅▄▆▅</td></tr><tr><td>trainer/global_step</td><td>▁▁▂▂▂▃▃▃▃▃▄▄▄▅▅▅▆▆▆▆▇▇▇███</td></tr><tr><td>validation/accuracy</td><td>▁▅█</td></tr><tr><td>validation/f1_score</td><td>▁▅█</td></tr><tr><td>validation/loss</td><td>█▃▁</td></tr><tr><td>validation/precision</td><td>▁▅█</td></tr><tr><td>validation/recall</td><td>▁▅█</td></tr></table><br/></div><div class=\"wandb-col\"><h3>Run summary:</h3><br/><table class=\"wandb\"><tr><td>epoch</td><td>2</td></tr><tr><td>train/accuracy</td><td>0.28906</td></tr><tr><td>train/f1_score</td><td>0.28906</td></tr><tr><td>train/loss</td><td>1.98473</td></tr><tr><td>train/precision</td><td>0.28906</td></tr><tr><td>train/recall</td><td>0.28906</td></tr><tr><td>trainer/global_step</td><td>1172</td></tr><tr><td>validation/accuracy</td><td>0.3371</td></tr><tr><td>validation/f1_score</td><td>0.3371</td></tr><tr><td>validation/loss</td><td>1.88185</td></tr><tr><td>validation/precision</td><td>0.3371</td></tr><tr><td>validation/recall</td><td>0.3371</td></tr></table><br/></div></div>"
      ],
      "text/plain": [
       "<IPython.core.display.HTML object>"
      ]
     },
     "metadata": {},
     "output_type": "display_data"
    },
    {
     "data": {
      "text/html": [
       "Synced <strong style=\"color:#cdcd00\">smooth-sunset-4</strong>: <a href=\"https://wandb.ai/dminn/CIFAR/runs/15ifslh9\" target=\"_blank\">https://wandb.ai/dminn/CIFAR/runs/15ifslh9</a><br/>Synced 5 W&B file(s), 0 media file(s), 1 artifact file(s) and 0 other file(s)"
      ],
      "text/plain": [
       "<IPython.core.display.HTML object>"
      ]
     },
     "metadata": {},
     "output_type": "display_data"
    },
    {
     "data": {
      "text/html": [
       "Find logs at: <code>logs/wandb_logs/wandb/run-20220509_154134-15ifslh9/logs</code>"
      ],
      "text/plain": [
       "<IPython.core.display.HTML object>"
      ]
     },
     "metadata": {},
     "output_type": "display_data"
    }
   ],
   "source": [
    "from model.ConvNet import LitConvNet\n",
    "from model.NeuralNet import LitNeuralNet\n",
    "    \n",
    "logger = WandbLogger(project=\"CIFAR\",\n",
    "                     save_dir = \"logs/wandb_logs\",\n",
    "                     log_model=True)\n",
    "\n",
    "model = LitNeuralNet(**CONFIG)\n",
    "trainer = pl.Trainer(logger = logger,\n",
    "                     max_epochs = CONFIG['num_epochs'],)\n",
    "trainer.fit(model,\n",
    "            train_dataloaders=trainloader,\n",
    "            val_dataloaders=testloader,)\n",
    "\n",
    "wandb.finish()"
   ]
  }
 ],
 "metadata": {
  "kernelspec": {
   "display_name": "Python 3 (ipykernel)",
   "language": "python",
   "name": "python3"
  },
  "language_info": {
   "codemirror_mode": {
    "name": "ipython",
    "version": 3
   },
   "file_extension": ".py",
   "mimetype": "text/x-python",
   "name": "python",
   "nbconvert_exporter": "python",
   "pygments_lexer": "ipython3",
   "version": "3.8.10"
  }
 },
 "nbformat": 4,
 "nbformat_minor": 5
}
